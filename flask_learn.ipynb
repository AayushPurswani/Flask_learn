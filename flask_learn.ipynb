{
 "cells": [
  {
   "cell_type": "code",
   "execution_count": 1,
   "metadata": {},
   "outputs": [
    {
     "name": "stdout",
     "output_type": "stream",
     "text": [
      "Requirement already satisfied: flask in /home/aayush/Desktop/Work/vsjupes/venv-vsjupes/lib/python3.11/site-packages (2.3.2)\n",
      "Requirement already satisfied: Werkzeug>=2.3.3 in /home/aayush/Desktop/Work/vsjupes/venv-vsjupes/lib/python3.11/site-packages (from flask) (2.3.6)\n",
      "Requirement already satisfied: Jinja2>=3.1.2 in /home/aayush/Desktop/Work/vsjupes/venv-vsjupes/lib/python3.11/site-packages (from flask) (3.1.2)\n",
      "Requirement already satisfied: itsdangerous>=2.1.2 in /home/aayush/Desktop/Work/vsjupes/venv-vsjupes/lib/python3.11/site-packages (from flask) (2.1.2)\n",
      "Requirement already satisfied: click>=8.1.3 in /home/aayush/Desktop/Work/vsjupes/venv-vsjupes/lib/python3.11/site-packages (from flask) (8.1.5)\n",
      "Requirement already satisfied: blinker>=1.6.2 in /home/aayush/Desktop/Work/vsjupes/venv-vsjupes/lib/python3.11/site-packages (from flask) (1.6.2)\n",
      "Requirement already satisfied: MarkupSafe>=2.0 in /home/aayush/Desktop/Work/vsjupes/venv-vsjupes/lib/python3.11/site-packages (from Jinja2>=3.1.2->flask) (2.1.3)\n"
     ]
    }
   ],
   "source": [
    "!pip install flask"
   ]
  },
  {
   "cell_type": "code",
   "execution_count": 2,
   "metadata": {},
   "outputs": [
    {
     "name": "stdout",
     "output_type": "stream",
     "text": [
      "Requirement already satisfied: pip in /home/aayush/Desktop/Work/vsjupes/venv-vsjupes/lib/python3.11/site-packages (23.2)\n"
     ]
    }
   ],
   "source": [
    "!pip install --upgrade pip "
   ]
  },
  {
   "cell_type": "code",
   "execution_count": null,
   "metadata": {},
   "outputs": [],
   "source": []
  }
 ],
 "metadata": {
  "kernelspec": {
   "display_name": "vsjupes",
   "language": "python",
   "name": "vsjupes"
  },
  "language_info": {
   "codemirror_mode": {
    "name": "ipython",
    "version": 3
   },
   "file_extension": ".py",
   "mimetype": "text/x-python",
   "name": "python",
   "nbconvert_exporter": "python",
   "pygments_lexer": "ipython3",
   "version": "3.11.3"
  },
  "orig_nbformat": 4
 },
 "nbformat": 4,
 "nbformat_minor": 2
}
